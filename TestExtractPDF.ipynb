{
  "nbformat": 4,
  "nbformat_minor": 0,
  "metadata": {
    "colab": {
      "provenance": [],
      "authorship_tag": "ABX9TyOxaTmZlmPUcb2At+i6xmjB",
      "include_colab_link": true
    },
    "kernelspec": {
      "name": "python3",
      "display_name": "Python 3"
    },
    "language_info": {
      "name": "python"
    }
  },
  "cells": [
    {
      "cell_type": "markdown",
      "metadata": {
        "id": "view-in-github",
        "colab_type": "text"
      },
      "source": [
        "<a href=\"https://colab.research.google.com/github/sachinibuddhika/BootstrapDemo/blob/master/TestExtractPDF.ipynb\" target=\"_parent\"><img src=\"https://colab.research.google.com/assets/colab-badge.svg\" alt=\"Open In Colab\"/></a>"
      ]
    },
    {
      "cell_type": "code",
      "execution_count": 10,
      "metadata": {
        "colab": {
          "base_uri": "https://localhost:8080/"
        },
        "id": "vXpVCcfMzf4V",
        "outputId": "7d8c3566-7bbf-4cf3-fbda-8203852a2c1c"
      },
      "outputs": [
        {
          "output_type": "stream",
          "name": "stdout",
          "text": [
            "Python 3.10.12\n"
          ]
        }
      ],
      "source": [
        "!python --version\n"
      ]
    },
    {
      "cell_type": "code",
      "source": [
        "!pip install pdfminer.six"
      ],
      "metadata": {
        "colab": {
          "base_uri": "https://localhost:8080/"
        },
        "id": "5TV0bHV910rq",
        "outputId": "82150956-0833-43fc-b467-746c42741c9f"
      },
      "execution_count": 11,
      "outputs": [
        {
          "output_type": "stream",
          "name": "stdout",
          "text": [
            "Requirement already satisfied: pdfminer.six in /usr/local/lib/python3.10/dist-packages (20221105)\n",
            "Requirement already satisfied: charset-normalizer>=2.0.0 in /usr/local/lib/python3.10/dist-packages (from pdfminer.six) (3.3.2)\n",
            "Requirement already satisfied: cryptography>=36.0.0 in /usr/local/lib/python3.10/dist-packages (from pdfminer.six) (41.0.7)\n",
            "Requirement already satisfied: cffi>=1.12 in /usr/local/lib/python3.10/dist-packages (from cryptography>=36.0.0->pdfminer.six) (1.16.0)\n",
            "Requirement already satisfied: pycparser in /usr/local/lib/python3.10/dist-packages (from cffi>=1.12->cryptography>=36.0.0->pdfminer.six) (2.21)\n"
          ]
        }
      ]
    },
    {
      "cell_type": "code",
      "source": [
        "import re"
      ],
      "metadata": {
        "id": "3wmJyw102uSG"
      },
      "execution_count": 12,
      "outputs": []
    },
    {
      "cell_type": "code",
      "source": [
        "\n",
        "import os\n",
        "\n",
        "pdf_path = r'testDoc.pdf'\n",
        "\n",
        "if os.path.exists(pdf_path):\n",
        "    print(f\"The file {pdf_path} exists.\")\n",
        "else:\n",
        "    print(f\"The file {pdf_path} does not exist.\")\n"
      ],
      "metadata": {
        "colab": {
          "base_uri": "https://localhost:8080/"
        },
        "id": "wjpKwFQf3M-I",
        "outputId": "34fef826-c98d-410e-e52c-f91e18325ff9"
      },
      "execution_count": 13,
      "outputs": [
        {
          "output_type": "stream",
          "name": "stdout",
          "text": [
            "The file testDoc.pdf exists.\n"
          ]
        }
      ]
    },
    {
      "cell_type": "markdown",
      "source": [
        "**To Extract Text If A Text Is Directly Converted In To PDF**"
      ],
      "metadata": {
        "id": "iPMZpdWODM9X"
      }
    },
    {
      "cell_type": "code",
      "source": [
        "!pip install PyPDF2"
      ],
      "metadata": {
        "colab": {
          "base_uri": "https://localhost:8080/"
        },
        "id": "flIWHzs71pUB",
        "outputId": "09687950-adea-40f2-a4b1-18f94f06ddea"
      },
      "execution_count": 14,
      "outputs": [
        {
          "output_type": "stream",
          "name": "stdout",
          "text": [
            "Collecting PyPDF2\n",
            "  Downloading pypdf2-3.0.1-py3-none-any.whl (232 kB)\n",
            "\u001b[2K     \u001b[90m━━━━━━━━━━━━━━━━━━━━━━━━━━━━━━━━━━━━━━━━\u001b[0m \u001b[32m232.6/232.6 kB\u001b[0m \u001b[31m2.3 MB/s\u001b[0m eta \u001b[36m0:00:00\u001b[0m\n",
            "\u001b[?25hInstalling collected packages: PyPDF2\n",
            "Successfully installed PyPDF2-3.0.1\n"
          ]
        }
      ]
    },
    {
      "cell_type": "code",
      "source": [
        "\n",
        "\n",
        "import PyPDF2\n",
        "\n",
        "pdf_path = r'testDoc.pdf'\n",
        "\n",
        "def extract_text_with_pypdf2(pdf_path):\n",
        "    text = \"\"\n",
        "    try:\n",
        "        with open(pdf_path, 'rb') as file:\n",
        "            pdf_reader = PyPDF2.PdfReader(file)\n",
        "            for page_number in range(len(pdf_reader.pages)):\n",
        "                page = pdf_reader.pages[page_number]\n",
        "                text += page.extract_text()\n",
        "    except Exception as e:\n",
        "        print(f\"Error: {e}\")\n",
        "    return text\n",
        "\n",
        "print(extract_text_with_pypdf2(pdf_path))"
      ],
      "metadata": {
        "colab": {
          "base_uri": "https://localhost:8080/"
        },
        "id": "zitOxRuF1szy",
        "outputId": "0e8e2f1f-fea5-4bd8-8bef-3ee7f02274de"
      },
      "execution_count": 15,
      "outputs": [
        {
          "output_type": "stream",
          "name": "stdout",
          "text": [
            "Destination  \n",
            " \n",
            "Lorem Ipsum  is simply dummy text of the printing and typesetting industry. Lorem Ipsum has been \n",
            "the industry's standard dummy text ever since the 1500s, when an unknown printer took a galley of \n",
            "type and scrambled it to make a type specimen book. It has survived not o nly five centuries, but also \n",
            "the leap into electronic typesetting, remaining essentially unchanged. It was popularised in the \n",
            "1960s with the release of Letraset sheets containing Lorem Ipsum passages, and more recently with \n",
            "desktop publishing software like  Aldus PageMaker including versions of Lorem Ipsum.  \n",
            " \n",
            " \n",
            " \n",
            "\n"
          ]
        }
      ]
    },
    {
      "cell_type": "markdown",
      "source": [
        "**To Extract Text If The PDF Is Consisted With Text Images**"
      ],
      "metadata": {
        "id": "Af6k-lbsCvjx"
      }
    },
    {
      "cell_type": "code",
      "source": [
        "!pip install pypdf\n",
        "from pypdf import PdfReader"
      ],
      "metadata": {
        "colab": {
          "base_uri": "https://localhost:8080/"
        },
        "id": "pYttNXEMnNzx",
        "outputId": "45402c37-913c-4e50-b469-ff52e1dc7a14"
      },
      "execution_count": 16,
      "outputs": [
        {
          "output_type": "stream",
          "name": "stdout",
          "text": [
            "Requirement already satisfied: pypdf in /usr/local/lib/python3.10/dist-packages (3.17.4)\n"
          ]
        }
      ]
    },
    {
      "cell_type": "code",
      "source": [
        "reader=PdfReader('CT-27-12-2023-CT.pdf')\n",
        "print(\"Number of pages in the pdf:\",len(reader.pages))\n",
        "page=reader.pages[0]\n",
        "\n",
        "for i in page.images:\n",
        "  with open(i.name,'wb') as f:\n",
        "    f.write(i.data)"
      ],
      "metadata": {
        "colab": {
          "base_uri": "https://localhost:8080/"
        },
        "id": "gTsl7cYYnZog",
        "outputId": "efadeff5-2ce0-4a5e-8d45-ee3a058bd067"
      },
      "execution_count": 18,
      "outputs": [
        {
          "output_type": "stream",
          "name": "stderr",
          "text": [
            "WARNING:pypdf._reader:incorrect startxref pointer(1)\n"
          ]
        },
        {
          "output_type": "stream",
          "name": "stdout",
          "text": [
            "Number of pages in the pdf: 12\n"
          ]
        }
      ]
    },
    {
      "cell_type": "code",
      "source": [
        "!pip install pytesseract"
      ],
      "metadata": {
        "colab": {
          "base_uri": "https://localhost:8080/"
        },
        "id": "6mUDbjHPzpr5",
        "outputId": "8f99654f-221d-453e-c91d-ef1f44bbc969"
      },
      "execution_count": 19,
      "outputs": [
        {
          "output_type": "stream",
          "name": "stdout",
          "text": [
            "Collecting pytesseract\n",
            "  Downloading pytesseract-0.3.10-py3-none-any.whl (14 kB)\n",
            "Requirement already satisfied: packaging>=21.3 in /usr/local/lib/python3.10/dist-packages (from pytesseract) (23.2)\n",
            "Requirement already satisfied: Pillow>=8.0.0 in /usr/local/lib/python3.10/dist-packages (from pytesseract) (9.4.0)\n",
            "Installing collected packages: pytesseract\n",
            "Successfully installed pytesseract-0.3.10\n"
          ]
        }
      ]
    },
    {
      "cell_type": "code",
      "source": [
        "!sudo apt install tesseract-ocr"
      ],
      "metadata": {
        "colab": {
          "base_uri": "https://localhost:8080/"
        },
        "id": "2tBQg_Hk0bNI",
        "outputId": "e639e020-131e-450c-afb9-6a8d7acc90ae"
      },
      "execution_count": 20,
      "outputs": [
        {
          "output_type": "stream",
          "name": "stdout",
          "text": [
            "Reading package lists... Done\n",
            "Building dependency tree... Done\n",
            "Reading state information... Done\n",
            "The following additional packages will be installed:\n",
            "  tesseract-ocr-eng tesseract-ocr-osd\n",
            "The following NEW packages will be installed:\n",
            "  tesseract-ocr tesseract-ocr-eng tesseract-ocr-osd\n",
            "0 upgraded, 3 newly installed, 0 to remove and 24 not upgraded.\n",
            "Need to get 4,816 kB of archives.\n",
            "After this operation, 15.6 MB of additional disk space will be used.\n",
            "Get:1 http://archive.ubuntu.com/ubuntu jammy/universe amd64 tesseract-ocr-eng all 1:4.00~git30-7274cfa-1.1 [1,591 kB]\n",
            "Get:2 http://archive.ubuntu.com/ubuntu jammy/universe amd64 tesseract-ocr-osd all 1:4.00~git30-7274cfa-1.1 [2,990 kB]\n",
            "Get:3 http://archive.ubuntu.com/ubuntu jammy/universe amd64 tesseract-ocr amd64 4.1.1-2.1build1 [236 kB]\n",
            "Fetched 4,816 kB in 1s (3,318 kB/s)\n",
            "debconf: unable to initialize frontend: Dialog\n",
            "debconf: (No usable dialog-like program is installed, so the dialog based frontend cannot be used. at /usr/share/perl5/Debconf/FrontEnd/Dialog.pm line 78, <> line 3.)\n",
            "debconf: falling back to frontend: Readline\n",
            "debconf: unable to initialize frontend: Readline\n",
            "debconf: (This frontend requires a controlling tty.)\n",
            "debconf: falling back to frontend: Teletype\n",
            "dpkg-preconfigure: unable to re-open stdin: \n",
            "Selecting previously unselected package tesseract-ocr-eng.\n",
            "(Reading database ... 121658 files and directories currently installed.)\n",
            "Preparing to unpack .../tesseract-ocr-eng_1%3a4.00~git30-7274cfa-1.1_all.deb ...\n",
            "Unpacking tesseract-ocr-eng (1:4.00~git30-7274cfa-1.1) ...\n",
            "Selecting previously unselected package tesseract-ocr-osd.\n",
            "Preparing to unpack .../tesseract-ocr-osd_1%3a4.00~git30-7274cfa-1.1_all.deb ...\n",
            "Unpacking tesseract-ocr-osd (1:4.00~git30-7274cfa-1.1) ...\n",
            "Selecting previously unselected package tesseract-ocr.\n",
            "Preparing to unpack .../tesseract-ocr_4.1.1-2.1build1_amd64.deb ...\n",
            "Unpacking tesseract-ocr (4.1.1-2.1build1) ...\n",
            "Setting up tesseract-ocr-eng (1:4.00~git30-7274cfa-1.1) ...\n",
            "Setting up tesseract-ocr-osd (1:4.00~git30-7274cfa-1.1) ...\n",
            "Setting up tesseract-ocr (4.1.1-2.1build1) ...\n",
            "Processing triggers for man-db (2.10.2-1) ...\n"
          ]
        }
      ]
    },
    {
      "cell_type": "code",
      "source": [
        "from PIL import Image\n",
        "import pytesseract\n",
        "import enum\n",
        "\n",
        "class OS(enum.Enum):\n",
        "    Mac = 0\n",
        "    Windows = 1\n",
        "\n",
        "class Language(enum.Enum):\n",
        "    ENG = 'eng'\n",
        "    SNH = 'snh'\n",
        "    TML = 'tml'\n",
        "\n",
        "class ImageReader:\n",
        "    def __init__(self, os: OS):\n",
        "        if os == OS.Mac:\n",
        "            print(\"Running on: MAC\\n\")\n",
        "        elif os == OS.Windows:\n",
        "            windows_path = r'C:\\Program Files\\Tesseract-OCR\\tesseract.exe'\n",
        "            pytesseract.tesseract_cmd = windows_path\n",
        "            print(\"Running on Windows\\n\")\n",
        "\n",
        "    def extract_text(self, image: str, lang: str) -> str:\n",
        "        img = Image.open(image)\n",
        "        extracted_text = pytesseract.image_to_string(img, lang=lang)\n",
        "        return extracted_text\n",
        "\n",
        "if __name__ == '__main__':\n",
        "    ir = ImageReader(OS.Windows)\n",
        "    text = ir.extract_text('R7.jpg', lang='eng')\n",
        "    print(text)"
      ],
      "metadata": {
        "colab": {
          "base_uri": "https://localhost:8080/"
        },
        "id": "-AhYJdFm0lo4",
        "outputId": "f15a854c-23f3-4bf8-e9a7-0c88402255c6"
      },
      "execution_count": 21,
      "outputs": [
        {
          "output_type": "stream",
          "name": "stdout",
          "text": [
            "Running on Windows\n",
            "\n",
            "STAY UPDATED!\n",
            "\n",
            "Stop gambling with www.ceylontoday\n",
            "PMR MeL aC PAs |\n",
            "\n",
            "Finance Today B7 rN , w if y ~\n",
            "\n",
            "Japan's Finance Minister set f © ~~\n",
            "for Sri Lanka visit in January a, _ { \\ .\n",
            "\n",
            "   \n",
            "\n",
            "  \n",
            "\n",
            "  \n",
            "\n",
            "Al faces look more convincing\n",
            "\n",
            " \n",
            "\n",
            "than real humans - | gap , Ww. . y ff - 27 December 2023\n",
            "! ! ) Latest Edition\n",
            "Sports Today A12 = / ; od Price : Rs 70.00\n",
            "SSC continue to impress : | = \\ vor 13/028\n",
            "maintaining unbeaten record — : —_ — Immunoglobulin IV fiasco\n",
            "\n",
            "CID questions\n",
            "\n",
            "Keheliya for over\n",
            "five hours\n",
            "\n",
            "BY KEERTHI MENDIS\n",
            "\n",
            "Former Health Minister Keheliya\n",
            "Rambukwella was questioned by the\n",
            "CID yesterday (26) for over five hours to\n",
            "record a statement on the controversial issue surrounding\n",
            "the import of sub-standard Immunoglobulin IV.\n",
            "\n",
            "IN DISASTERS — PROF. PERERA a\n",
            "\n",
            "os . . . Recovered during 2004 tsunami\n",
            "Living and dead must be_ | 40,000 perished in tsunami, not even\n",
            "\n",
            "se ge cadGEaclioe Celacedtts 137 unidentified body\n",
            "treated with dignity 10 per cent were definitely identified parts still at Karapitiya\n",
            "\n",
            "  \n",
            "\n",
            "DMA does not focus on Setting up of mobile morgues mooted Medical Faculty\n",
            "those killed in disasters | in at least one hospital per district a\n",
            "BY LALITH RUHUNAGE AND RAVINDRA CHANDRALAL — HINIDUMA perish in disasters, citing a lack of required facilities.\n",
            "During the tsunami memorial event held yesterday (26) in ‘ ie\n",
            "Prof. U.C.P. Perera, Judicial Medical Officer (JMO) at the Forensic Akmeemana, Prof. Perera said despite 19 years passing since the le D ie\n",
            "Medicine Department of the Medical College in Karapitiya, Galle tsunami, there was no method to confirm identities of the deceased .\n",
            "highlighted the absence of a proper method to scientifically persons through scientific means in the event of a disaster. s\n",
            "identify numerous Ss =x individuals who Ss —|\n",
            "\n",
            "    \n",
            " \n",
            "\n",
            " \n",
            "\n",
            "Continued on Page 2\n",
            "\n",
            "BY LALITH RUHUNAGE AND RAVINDRA\n",
            "CHANDRALAL — HINIDUMA\n",
            "\n",
            "The Judicial Medical Officer (JMO), Professor U.C.P.\n",
            "Perera revealed that the body parts of 137 individuals who\n",
            "perished in the tsunami tragedy and whose identities\n",
            "remain unconfirmed were kept in the Forensic Medicine\n",
            "Department of the Faculty of Medicine in Karapitiya, Galle.\n",
            "\n",
            "Continued on Page 2 |=\n",
            "Measles outbreak 9a a2 AB A) ey sCKalutara prisoner\n",
            "in Kurunegala Pour, .* < ‘dies following\n",
            "|| a? :\n",
            "\n",
            "ee\n",
            "i rad\n",
            "\n",
            "ar Sea ange agalee iam\n",
            "\n",
            "rm\n",
            "\n",
            " \n",
            "\f\n"
          ]
        }
      ]
    }
  ]
}